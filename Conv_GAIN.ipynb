{
 "cells": [
  {
   "cell_type": "markdown",
   "id": "1583afca",
   "metadata": {},
   "source": [
    "# Conv-GAIN\n",
    "<!-- # Build Conv-GAIN\n",
    "Impute missing values in data_x\n",
    "\n",
    "Args:\n",
    "- data_x: original data with missing values\n",
    "- gain_parameters: GAIN network parameters:\n",
    "  - batch_size: Batch size\n",
    "  - hint_rate: Hint rate\n",
    "  - alpha: Hyperparameter\n",
    "  - iterations: Iterations\n",
    "\n",
    "Returns:\n",
    "- imputed_data: imputed data \n",
    "<h4 align=\"center\">Conv-GAIN architecture</h4>\n",
    "<img src='Conv_GAIN.png'></img>\n",
    "\n",
    "<h4 align=\"center\">The Proposed Conv-GAIN architecture</h4>\n",
    "<img src=\"Conv_GAIN_layers.png\" align=\"left\"></img> -->"
   ]
  },
  {
   "cell_type": "code",
   "execution_count": 2,
   "id": "fd4d0874",
   "metadata": {
    "scrolled": true
   },
   "outputs": [
    {
     "name": "stdout",
     "output_type": "stream",
     "text": [
      "WARNING:tensorflow:From C:\\Users\\Alaa Sedeeq\\anaconda3\\lib\\site-packages\\tensorflow\\python\\compat\\v2_compat.py:111: disable_resource_variables (from tensorflow.python.ops.variable_scope) is deprecated and will be removed in a future version.\n",
      "Instructions for updating:\n",
      "non-resource variables are not supported in the long term\n"
     ]
    }
   ],
   "source": [
    "from conv_gain_utils import *\n",
    "from tqdm import tqdm \n",
    "import numpy as np\n",
    "from keras.datasets import mnist\n",
    "import tensorflow.compat.v1 as tf\n",
    "tf.disable_v2_behavior()\n",
    "import numpy as np\n",
    "from tqdm import tqdm\n",
    "import matplotlib.pyplot as  plt"
   ]
  },
  {
   "cell_type": "code",
   "execution_count": 1,
   "id": "df5afa2e",
   "metadata": {
    "scrolled": true
   },
   "outputs": [],
   "source": [
    "def Conv_GAIN(miss_data_x, conv_gain_parameters):\n",
    "    \n",
    "    # Define mask matrix\n",
    "    data_m = 1-np.isnan(miss_data_x)\n",
    "\n",
    "    # System parameters\n",
    "    batch_size = conv_gain_parameters['batch_size']\n",
    "    hint_rate = conv_gain_parameters['hint_rate']\n",
    "    alpha = conv_gain_parameters['alpha']\n",
    "    iterations = conv_gain_parameters['iterations']\n",
    "    learning_rate = conv_gain_parameters['learning_rate']\n",
    "\n",
    "    # Other parameters\n",
    "    no, rows, cols, _ = miss_data_x.shape\n",
    "\n",
    "    # Hidden state dimensions\n",
    "    h_dim = (rows, cols, 1)\n",
    "\n",
    "    # Normalization\n",
    "    norm_data, norm_parameters = normalization(miss_data_x)\n",
    "    norm_data_x = np.nan_to_num(norm_data, 0)\n",
    "\n",
    "    # Reset the default graph\n",
    "    tf.reset_default_graph()\n",
    "\n",
    "    ## GAIN architecture   \n",
    "    # Input placeholders\n",
    "    # Data vector\n",
    "    X = tf.placeholder(tf.float32, shape = [None, rows, cols, 1])\n",
    "    # Mask vector\n",
    "    M = tf.placeholder(tf.float32, shape = [None, rows, cols, 1])\n",
    "    # Hint vector\n",
    "    H = tf.placeholder(tf.float32, shape = [None, rows, cols, 1])\n",
    "    # Noise vector\n",
    "    Z = tf.placeholder(tf.float32, shape = [None, rows, cols, 1])\n",
    "\n",
    "    # D Weights and Biases\n",
    "    D_weights = {\n",
    "        # Convolution Layers\n",
    "        'c1': tf.Variable(xavier_init((3,3,1,32)), name='W1'), \n",
    "        'c2': tf.Variable(xavier_init((3,3,32,64)), name='W2'),\n",
    "\n",
    "        # Dense Layers\n",
    "        'd1': tf.Variable(xavier_init((6272,1024)), name='W3'),\n",
    "    #     'd2': tf.Variable(xavier_init((1024,1024)), name='W4'),\n",
    "        'out': tf.Variable(xavier_init((1024,784)), name='W4'), \n",
    "    }\n",
    "    D_biases = {\n",
    "        # Convolution Layers\n",
    "        'c1': tf.Variable(xavier_init((32,)), name='B1'),\n",
    "        'c2': tf.Variable(xavier_init((64,)), name='B2'),\n",
    "\n",
    "        # Dense Layers\n",
    "        'd1': tf.Variable(xavier_init((1024,)), name='B3'),\n",
    "    #     'd2': tf.Variable(xavier_init((1024,)), name='B4'),\n",
    "        'out': tf.Variable(xavier_init((784,)), name='B4'),\n",
    "    }\n",
    "\n",
    "    theta_D = np.concatenate(list((list(D_weights.values()), list(D_biases.values()))))\n",
    "\n",
    "    # G Weights and Biases\n",
    "    G_weights = {\n",
    "        # Convolution Layers\n",
    "        'c1': tf.Variable(xavier_init((3,3,1,32)), name='W1'), \n",
    "        'c2': tf.Variable(xavier_init((3,3,32,64)), name='W2'),\n",
    "\n",
    "        # Dense Layers\n",
    "        'd1': tf.Variable(xavier_init((9408,1024)), name='W3'), # 7*14*64 = 6272\n",
    "    #     'd2': tf.Variable(xavier_init((1024,1024)), name='W4'),\n",
    "        'out': tf.Variable(xavier_init((1024,784)), name='W4'), \n",
    "    }\n",
    "    G_biases = {\n",
    "        # Convolution Layers\n",
    "        'c1': tf.Variable(xavier_init((32,)), name='B1'),\n",
    "        'c2': tf.Variable(xavier_init((64,)), name='B2'),\n",
    "\n",
    "        # Dense Layers\n",
    "        'd1': tf.Variable(xavier_init((1024,)), name='B3'),\n",
    "    #     'd2': tf.Variable(xavier_init((1024,)), name='B4'),\n",
    "        'out': tf.Variable(xavier_init((784,)), name='B4'),\n",
    "    }\n",
    "\n",
    "    theta_G = np.concatenate(list((list(G_weights.values()), list(G_biases.values()))))\n",
    "\n",
    "    # 2D Convolutional Function\n",
    "    def conv2d(x, W, b, strides=1):\n",
    "        x = tf.nn.conv2d(x, W, strides=[1,1,1,1], padding='SAME')\n",
    "        x = tf.nn.bias_add(x, b)\n",
    "        x = tf.nn.relu(x)\n",
    "        return x\n",
    "\n",
    "    def generator(x, m, z):\n",
    "        # Concatenate Mask and Data\n",
    "        inputs = tf.concat(values = [x, m, z], axis = 1)\n",
    "    #         inputs = tf.where(tf.is_nan(inputs), tf.zeros_like(inputs), inputs)\n",
    "        # Convolution layers\n",
    "        #First Layer\n",
    "        conv1 = conv2d(inputs, G_weights['c1'], G_biases['c1']) # [28,84,1] ==> [26,84,32]\n",
    "        pool1 = tf.nn.max_pool(conv1, ksize=[1,2,2,1], strides=[1,2,2,1], padding='SAME') # [28,84,32] ==> [14,42,32]\n",
    "    #                 norm1 = tf.nn.lrn(pool1, 4, bias=1.0, alpha=0.001/9.0, beta=0.75)\n",
    "        #Second Layer\n",
    "        conv2 = conv2d(pool1, G_weights['c2'], G_biases['c2']) # [14,42,32] ==> [14,42,64]\n",
    "        pool2 = tf.nn.max_pool(conv2, ksize=[1,2,2,1], strides=[1,2,2,1], padding='SAME') # [14,42,64] ==> [7,21,64]\n",
    "        # Flatten Layer\n",
    "        flat = tf.reshape(pool2, [-1, G_weights['d1'].get_shape().as_list()[0]]) # [7*21*64] = [9408]\n",
    "        # Fully connected layer\n",
    "        fc1 = tf.nn.relu(tf.add(tf.matmul(flat, G_weights['d1']), G_biases['d1'])) # [1204]\n",
    "    #     fc2 = tf.nn.relu(tf.add(tf.matmul(fc1, G_weights['d2']), G_biases['d2'])) # [1204]\n",
    "        # MinMax normalized output\n",
    "        G_prob = tf.nn.sigmoid(tf.add(tf.matmul(fc1, G_weights['out']) , G_biases['out'])) # [728]\n",
    "        G_prob = tf.reshape(G_prob, [-1, 28,28,1])\n",
    "        return G_prob\n",
    "\n",
    "    # Discriminator\n",
    "    def discriminator(x, h):\n",
    "        # Concatenate Mask and Data\n",
    "        inputs = tf.concat(values = [x, h], axis = 1) \n",
    "        # Convolution layers\n",
    "        #First Layer\n",
    "        conv1 = conv2d(inputs, D_weights['c1'], D_biases['c1']) # [28,56,1] ==> [26,56,32]\n",
    "        pool1 = tf.nn.max_pool(conv1, ksize=[1,2,2,1], strides=[1,2,2,1], padding='SAME') # [28,56,32] ==> [14,28,32]\n",
    "        #Second Layer\n",
    "        conv2 = conv2d(pool1, D_weights['c2'], D_biases['c2']) # [14,28,32] ==> [14,28,64]\n",
    "        pool2 = tf.nn.max_pool(conv2, ksize=[1,2,2,1], strides=[1,2,2,1], padding='SAME') # [14,28,64] ==> [7,14,64]\n",
    "        # Flatten Layer\n",
    "        flat = tf.reshape(pool2, [-1, D_weights['d1'].get_shape().as_list()[0]]) # [7*7*64] = [6272]\n",
    "        # Fully connected layer\n",
    "        fc1 = tf.nn.relu(tf.add(tf.matmul(flat, D_weights['d1']), D_biases['d1'])) # [1204]\n",
    "    #     fc2 = tf.nn.relu(tf.add(tf.matmul(fc1, D_weights['d2']), D_biases['d2'])) # [1204]\n",
    "        # MinMax normalized output\n",
    "        D_logit = tf.add(tf.matmul(fc1, D_weights['out']) ,D_biases['out']) # [728]\n",
    "        D_prob = tf.nn.sigmoid(D_logit)\n",
    "        D_prob = tf.reshape(D_prob, [-1, 28,28,1])\n",
    "        return D_prob\n",
    "\n",
    "    ## GAIN structure\n",
    "    # Generator\n",
    "    G_sample = generator(X, M, Z)\n",
    "\n",
    "    # Combine with observed data(real obs + missed after generation)\n",
    "    Hat_X = X * M + G_sample * (1-M)\n",
    "\n",
    "    # Discriminator\n",
    "    D_prob = discriminator(Hat_X, H)\n",
    "\n",
    "    ## GAIN loss\n",
    "    D_loss_temp = -tf.reduce_mean(M * tf.log(D_prob + 1e-8) + (1-M) * tf.log(1. - D_prob + 1e-8)) \n",
    "\n",
    "    G_loss_temp = -tf.reduce_mean((1-M) * tf.log(D_prob + 1e-8))\n",
    "\n",
    "    MSE_loss = tf.reduce_mean((M * X - M * G_sample)**2) / tf.reduce_mean(M)\n",
    "\n",
    "    D_loss = D_loss_temp\n",
    "    G_loss = G_loss_temp + alpha * MSE_loss \n",
    "\n",
    "    ## GAIN solver\n",
    "    D_solver = tf.train.AdamOptimizer(learning_rate=learning_rate).minimize(D_loss, var_list=theta_D.tolist())\n",
    "    G_solver = tf.train.AdamOptimizer(learning_rate=learning_rate).minimize(G_loss, var_list=theta_G.tolist())\n",
    "\n",
    "    # Start the session\n",
    "    sess = tf.Session()\n",
    "    # Initialize the global parameters \n",
    "    sess.run(tf.global_variables_initializer())\n",
    "\n",
    "    # Start Iterations\n",
    "    for epoch in range(iterations):\n",
    "        prog_bar = tqdm(range(int(len(miss_data_x)/batch_size)))\n",
    "        for step in prog_bar:  \n",
    "            # Sample batch\n",
    "            batch_idx = sample_batch_index(no, batch_size)\n",
    "            X_mb = norm_data_x[batch_idx, :] \n",
    "            X_mb = np.reshape(X_mb, (-1, 28, 28, 1))\n",
    "            M_mb = data_m[batch_idx, :]  \n",
    "            M_mb = np.reshape(M_mb, (-1, 28, 28, 1))\n",
    "            # Sample random vectors  \n",
    "            Z_mb = uniform_sampler(0, 0.01, (batch_size, rows, cols, 1)) \n",
    "            Z_mb = np.reshape(Z_mb, (batch_size, rows, cols, 1))\n",
    "            # Sample hint vectors\n",
    "            H_mb_temp = binary_sampler(hint_rate, (1, rows, cols, 1))\n",
    "            H_mb = M_mb * H_mb_temp\n",
    "            # Combine random vectors with observed vectors\n",
    "            X_mb = M_mb * X_mb + (1-M_mb) * Z_mb \n",
    "            Z_mb = np.reshape(Z_mb, X_mb.shape)\n",
    "            _, D_loss_curr = sess.run([D_solver, D_loss_temp], \n",
    "                                      feed_dict = {M: M_mb, X: X_mb, H: H_mb, Z: Z_mb})\n",
    "\n",
    "            _, G_loss_curr, MSE_loss_curr = sess.run([G_solver, G_loss_temp, MSE_loss],\n",
    "                                                     feed_dict = {X: X_mb, M: M_mb, H: H_mb, Z: Z_mb})\n",
    "\n",
    "            prog_bar.set_description(\"D_loss, G_loss: {:.3f}, {:.3f}\".format(D_loss_curr, G_loss_curr))\n",
    "\n",
    "    # Return imputed data     \n",
    "    Z_mb = uniform_sampler(0, 0.01, (no, rows, cols, 1)) \n",
    "    Z_mb = np.reshape(Z_mb, (no, rows, cols, 1))\n",
    "    M_mb = data_m\n",
    "    M_mb = np.reshape(M_mb, (-1, 28, 28, 1))\n",
    "    X_mb = norm_data_x     \n",
    "    X_mb = np.reshape(X_mb, (-1, 28, 28, 1))\n",
    "    X_mb = M_mb * X_mb + (1-M_mb) * Z_mb\n",
    "\n",
    "    imputed_data = sess.run([G_sample], feed_dict = {X: X_mb[:1000], M: M_mb[:1000], Z:Z_mb[:1000]})[0]\n",
    "    imputed_data = data_m[:1000] * norm_data_x[:1000] + (1-data_m[:1000]) * imputed_data\n",
    "\n",
    "    # Renormalization\n",
    "    imputed_data = renormalization(imputed_data, norm_parameters)  \n",
    "    # Rounding\n",
    "    imputed_data = rounding(imputed_data, data_x)\n",
    "    \n",
    "    # Save Model\n",
    "    saver = tf.train.Saver() \n",
    "    saver.save(sess, './model.ckpt')\n",
    "    \n",
    "    return imputed_data"
   ]
  },
  {
   "cell_type": "code",
   "execution_count": 2,
   "id": "6e72b846",
   "metadata": {},
   "outputs": [
    {
     "ename": "NameError",
     "evalue": "name 'data_loader' is not defined",
     "output_type": "error",
     "traceback": [
      "\u001b[1;31m---------------------------------------------------------------------------\u001b[0m",
      "\u001b[1;31mNameError\u001b[0m                                 Traceback (most recent call last)",
      "\u001b[1;32m<ipython-input-2-87d8222efbd2>\u001b[0m in \u001b[0;36m<module>\u001b[1;34m\u001b[0m\n\u001b[1;32m----> 1\u001b[1;33m \u001b[0mdata_x\u001b[0m\u001b[1;33m,\u001b[0m \u001b[0mmiss_data_x\u001b[0m\u001b[1;33m,\u001b[0m \u001b[0mdata_m\u001b[0m \u001b[1;33m=\u001b[0m \u001b[0mdata_loader\u001b[0m\u001b[1;33m(\u001b[0m\u001b[1;36m0.1\u001b[0m\u001b[1;33m)\u001b[0m\u001b[1;33m\u001b[0m\u001b[1;33m\u001b[0m\u001b[0m\n\u001b[0m\u001b[0;32m      2\u001b[0m \u001b[1;33m\u001b[0m\u001b[0m\n\u001b[0;32m      3\u001b[0m conv_gain_parameters = {'batch_size':64,\n\u001b[0;32m      4\u001b[0m                         \u001b[1;34m'hint_rate'\u001b[0m\u001b[1;33m:\u001b[0m\u001b[1;36m0.1\u001b[0m\u001b[1;33m,\u001b[0m\u001b[1;33m\u001b[0m\u001b[1;33m\u001b[0m\u001b[0m\n\u001b[0;32m      5\u001b[0m                         \u001b[1;34m'learning_rate'\u001b[0m\u001b[1;33m:\u001b[0m\u001b[1;36m0.0001\u001b[0m\u001b[1;33m,\u001b[0m\u001b[1;33m\u001b[0m\u001b[1;33m\u001b[0m\u001b[0m\n",
      "\u001b[1;31mNameError\u001b[0m: name 'data_loader' is not defined"
     ]
    }
   ],
   "source": [
    "\n",
    "data_x, miss_data_x, data_m = data_loader(0.1)\n",
    "\n",
    "conv_gain_parameters = {'batch_size':64,\n",
    "                        'hint_rate':0.1,\n",
    "                        'learning_rate':0.0001,\n",
    "                        'alpha':0.005,\n",
    "                        'iterations':1}\n",
    "\n",
    "imputed_data = Conv_GAIN(miss_data_x, conv_gain_parameters)"
   ]
  },
  {
   "cell_type": "code",
   "execution_count": 56,
   "id": "1c7a9a34",
   "metadata": {},
   "outputs": [
    {
     "name": "stdout",
     "output_type": "stream",
     "text": [
      "Image : 165\n"
     ]
    },
    {
     "data": {
      "image/png": "[encoded data removed]",
      "text/plain": [
       "<Figure size 1440x576 with 4 Axes>"
      ]
     },
     "metadata": {
      "needs_background": "light"
     },
     "output_type": "display_data"
    },
    {
     "name": "stdout",
     "output_type": "stream",
     "text": [
      "Image : 161\n"
     ]
    },
    {
     "data": {
      "image/png": "[encoded data removed]",
      "text/plain": [
       "<Figure size 1440x576 with 4 Axes>"
      ]
     },
     "metadata": {
      "needs_background": "light"
     },
     "output_type": "display_data"
    },
    {
     "name": "stdout",
     "output_type": "stream",
     "text": [
      "Image : 556\n"
     ]
    },
    {
     "data": {
      "image/png": "[encoded data removed]",
      "text/plain": [
       "<Figure size 1440x576 with 4 Axes>"
      ]
     },
     "metadata": {
      "needs_background": "light"
     },
     "output_type": "display_data"
    }
   ],
   "source": [
    "show_results(data_x, miss_data_x, data_m, imputed_data, num_examples=3)"
   ]
  },
  {
   "cell_type": "code",
   "execution_count": null,
   "id": "88a707f0",
   "metadata": {},
   "outputs": [],
   "source": []
  },
  {
   "cell_type": "code",
   "execution_count": null,
   "id": "e220537f",
   "metadata": {},
   "outputs": [],
   "source": []
  },
  {
   "cell_type": "code",
   "execution_count": null,
   "id": "c706620c",
   "metadata": {},
   "outputs": [],
   "source": []
  },
  {
   "cell_type": "code",
   "execution_count": null,
   "id": "7160aee7",
   "metadata": {},
   "outputs": [],
   "source": []
  },
  {
   "cell_type": "code",
   "execution_count": 30,
   "id": "74bc65a7",
   "metadata": {},
   "outputs": [],
   "source": []
  },
  {
   "cell_type": "code",
   "execution_count": null,
   "id": "5fd0819c",
   "metadata": {},
   "outputs": [],
   "source": []
  },
  {
   "cell_type": "code",
   "execution_count": null,
   "id": "04c7a457",
   "metadata": {},
   "outputs": [],
   "source": []
  },
  {
   "cell_type": "code",
   "execution_count": null,
   "id": "a914414b",
   "metadata": {},
   "outputs": [],
   "source": []
  },
  {
   "cell_type": "code",
   "execution_count": null,
   "id": "acc5bfed",
   "metadata": {},
   "outputs": [],
   "source": []
  },
  {
   "cell_type": "code",
   "execution_count": null,
   "id": "fcb46c65",
   "metadata": {},
   "outputs": [],
   "source": []
  }
 ],
 "metadata": {
  "kernelspec": {
   "display_name": "Python 3",
   "language": "python",
   "name": "python3"
  },
  "language_info": {
   "codemirror_mode": {
    "name": "ipython",
    "version": 3
   },
   "file_extension": ".py",
   "mimetype": "text/x-python",
   "name": "python",
   "nbconvert_exporter": "python",
   "pygments_lexer": "ipython3",
   "version": "3.8.8"
  }
 },
 "nbformat": 4,
 "nbformat_minor": 5
}
