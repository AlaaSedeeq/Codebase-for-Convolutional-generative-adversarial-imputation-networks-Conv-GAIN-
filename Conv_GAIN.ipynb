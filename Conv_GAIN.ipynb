{
 "cells": [
  {
   "cell_type": "markdown",
   "id": "1583afca",
   "metadata": {},
   "source": [
    "# Convolutional generative adversarial imputation networks for spatio-temporal missing data (Conv-GAIN)\n",
    "<br>\n",
    "<li>Authors: Ehsan Adeli, Jize Zhang, Alexandros A. Taflanidis \n",
    "<li>Paper: Ehsan Adeli, Jize Zhang, Alexandros A. Taflanidis, \"Conv-GAIN: Missing Data Imputation using Convolutional Generative Adversarial Nets for spatio-temporal missing data in storm surge simulations. 26 Nov 2021.<br>\n",
    "<li>Paper Link: (<a href=\"https://arxiv.org/abs/2111.02823\">Paper</a>)<br>\n",
    "<li>Contact: Sedeeq.alaa@gmail.com<br>\n",
    "\n",
    "<h4 align=\"center\">Conv-GAIN architecture</h4>\n",
    "<img src='Conv_GAIN.png'></img><br><br>\n",
    "\n",
    "<h4 align=\"center\">The Proposed Conv-GAIN architecture</h4>\n",
    "<img src=\"Conv_GAIN_layers.png\" align=\"center\"></img>"
   ]
  },
  {
   "cell_type": "markdown",
   "id": "1ab50292",
   "metadata": {},
   "source": [
    "#### Immport the needed libraries"
   ]
  },
  {
   "cell_type": "code",
   "execution_count": 1,
   "id": "fd4d0874",
   "metadata": {},
   "outputs": [
    {
     "name": "stdout",
     "output_type": "stream",
     "text": [
      "WARNING:tensorflow:From C:\\Users\\Alaa Sedeeq\\anaconda3\\lib\\site-packages\\tensorflow\\python\\compat\\v2_compat.py:111: disable_resource_variables (from tensorflow.python.ops.variable_scope) is deprecated and will be removed in a future version.\n",
      "Instructions for updating:\n",
      "non-resource variables are not supported in the long term\n"
     ]
    }
   ],
   "source": [
    "from conv_gain_utils import *\n",
    "from tqdm import tqdm \n",
    "import numpy as np\n",
    "from keras.datasets import mnist\n",
    "import tensorflow.compat.v1 as tf\n",
    "tf.disable_v2_behavior()\n",
    "import numpy as np\n",
    "from tqdm import tqdm\n",
    "import matplotlib.pyplot as  plt"
   ]
  },
  {
   "cell_type": "markdown",
   "id": "6d887a98",
   "metadata": {},
   "source": [
    "#### Define the Conv-GAIN function"
   ]
  },
  {
   "cell_type": "code",
   "execution_count": 20,
   "id": "df5afa2e",
   "metadata": {
    "scrolled": true
   },
   "outputs": [],
   "source": [
    "def Conv_GAIN(miss_data_x, conv_gain_parameters):\n",
    "    '''\n",
    "    Impute missing values in data\n",
    "\n",
    "    Args:\n",
    "    - data: original data with missing values\n",
    "    - gain_parameters: GAIN network parameters:\n",
    "    - batch_size: Batch size\n",
    "    - hint_rate: Hint rate\n",
    "    - alpha: Hyperparameter\n",
    "    - iterations: Iterations\n",
    "\n",
    "    Returns:\n",
    "    - imputed_data: imputed data \n",
    "    '''\n",
    "    \n",
    "    # Define mask matrix\n",
    "    data_m = 1-np.isnan(miss_data_x)\n",
    "\n",
    "    # System parameters\n",
    "    batch_size = conv_gain_parameters['batch_size']\n",
    "    hint_rate = conv_gain_parameters['hint_rate']\n",
    "    alpha = conv_gain_parameters['alpha']\n",
    "    iterations = conv_gain_parameters['iterations']\n",
    "    learning_rate = conv_gain_parameters['learning_rate']\n",
    "\n",
    "    # Other parameters\n",
    "    no, rows, cols, _ = miss_data_x.shape\n",
    "    g_last_w = int(np.ceil(rows/4)*np.ceil(3*cols/4)*64)\n",
    "    d_last_w = int(np.ceil(rows/4)*np.ceil(2*cols/4)*64)    \n",
    "    \n",
    "    # Hidden state dimensions\n",
    "    h_dim = (rows, cols, 1)\n",
    "\n",
    "    # Normalization\n",
    "    norm_data, norm_parameters = normalization(miss_data_x)\n",
    "    norm_data_x = np.nan_to_num(norm_data, 0)\n",
    "\n",
    "    # Reset the default graph\n",
    "    tf.reset_default_graph()\n",
    "\n",
    "    ### GAIN architecture   \n",
    "    ## Input placeholders\n",
    "    # Data vector\n",
    "    X = tf.placeholder(tf.float32, shape = [None, rows, cols, 1])\n",
    "    # Mask vector\n",
    "    M = tf.placeholder(tf.float32, shape = [None, rows, cols, 1])\n",
    "    # Hint vector\n",
    "    H = tf.placeholder(tf.float32, shape = [None, rows, cols, 1])\n",
    "    # Noise vector\n",
    "    Z = tf.placeholder(tf.float32, shape = [None, rows, cols, 1])\n",
    "\n",
    "    ## D Weights and Biases\n",
    "    # Input ==> (rows, 2*cols)\n",
    "    D_weights = {\n",
    "        # Convolution Layers\n",
    "        'c1': tf.Variable(xavier_init((3,3,1,32)), name='W1'), \n",
    "        'c2': tf.Variable(xavier_init((3,3,32,64)), name='W2'),\n",
    "\n",
    "        # Dense Layers\n",
    "        'd1': tf.Variable(xavier_init((d_last_w, d_last_w//3)), name='W3'),\n",
    "        'out': tf.Variable(xavier_init((d_last_w//3, rows*cols)), name='W4'), \n",
    "    }\n",
    "    D_biases = {\n",
    "        # Convolution Layers\n",
    "        'c1': tf.Variable(xavier_init((32,)), name='B1'),\n",
    "        'c2': tf.Variable(xavier_init((64,)), name='B2'),\n",
    "\n",
    "        # Dense Layers\n",
    "        'd1': tf.Variable(xavier_init((d_last_w//3,)), name='B3'),\n",
    "        'out': tf.Variable(xavier_init((rows*cols,)), name='B4'),\n",
    "    }\n",
    "\n",
    "    theta_D = np.concatenate(list((list(D_weights.values()), list(D_biases.values()))))\n",
    "\n",
    "    ## G Weights and Biases\n",
    "    # Input ==> (rows, 3*cols)\n",
    "    G_weights = {\n",
    "        # Convolution Layers\n",
    "        'c1': tf.Variable(xavier_init((3,3,1,32)), name='W1'), \n",
    "        'c2': tf.Variable(xavier_init((3,3,32,64)), name='W2'),\n",
    "\n",
    "        # Dense Layers\n",
    "        'd1': tf.Variable(xavier_init((g_last_w, g_last_w//3)), name='W3'),\n",
    "        'out': tf.Variable(xavier_init((g_last_w//3, rows*cols)), name='W4'),\n",
    "    }\n",
    "    G_biases = {\n",
    "        # Convolution Layers\n",
    "        'c1': tf.Variable(xavier_init((32,)), name='B1'),\n",
    "        'c2': tf.Variable(xavier_init((64,)), name='B2'),\n",
    "\n",
    "        # Dense Layers\n",
    "        'd1': tf.Variable(xavier_init((g_last_w//3,)), name='B3'),\n",
    "        'out': tf.Variable(xavier_init((rows*cols,)), name='B4'),\n",
    "    }\n",
    "\n",
    "    theta_G = np.concatenate(list((list(G_weights.values()), list(G_biases.values()))))\n",
    "\n",
    "    # 2D Convolutional Function\n",
    "    def conv2d(x, W, b, strides=2):\n",
    "        x = tf.nn.conv2d(x, W, strides=[1, strides, strides, 1], padding='SAME')\n",
    "        x = tf.nn.bias_add(x, b)\n",
    "        x = tf.nn.relu(x)\n",
    "        return x\n",
    "\n",
    "    def generator(x, m, z):\n",
    "        # Concatenate Mask and Data\n",
    "        inputs = tf.concat(values = [x, m, z], axis = 1)\n",
    "        # Convolution layers\n",
    "        #First Layer\n",
    "        conv1 = conv2d(inputs, G_weights['c1'], G_biases['c1']) # [rows, 3*cols, 1] ==> [rows/2, 3*cols/2, 32]\n",
    "#         pool1 = tf.nn.max_pool(conv1, ksize=[1,2,2,1], strides=[1,2,2,1], padding='SAME') \n",
    "#         conv1 = tf.nn.lrn(conv1, 4, bias=1.0, alpha=0.001/9.0, beta=0.75)\n",
    "        #Second Layer\n",
    "        conv2 = conv2d(conv1, G_weights['c2'], G_biases['c2']) # [rows/2, 3*cols/2, 32] ==> [rows/4, 3*cols/4, 64]\n",
    "#         conv2 = tf.nn.lrn(conv2, 4, bias=1.0, alpha=0.001/9.0, beta=0.75)\n",
    "#         pool2 = tf.nn.max_pool(conv2, ksize=[1,2,2,1], strides=[1,2,2,1], padding='SAME') \n",
    "        # Flatten Layer\n",
    "        flat = tf.reshape(conv2, [-1, G_weights['d1'].get_shape().as_list()[0]]) # [(rows/4)*(3*cols/4)*64]\n",
    "        # Fully connected layer\n",
    "        fc1 = tf.nn.relu(tf.add(tf.matmul(flat, G_weights['d1']), G_biases['d1']))\n",
    "        # MinMax normalized output\n",
    "        G_prob = tf.nn.sigmoid(tf.add(tf.matmul(fc1, G_weights['out']) , G_biases['out'])) # [rows, cols]\n",
    "        G_prob = tf.reshape(G_prob, [-1, rows, cols, 1])\n",
    "        return G_prob\n",
    "\n",
    "    # Discriminator\n",
    "    def discriminator(x, h):\n",
    "        # Concatenate Mask and Data\n",
    "        inputs = tf.concat(values = [x, h], axis = 1) \n",
    "        # Convolution layers\n",
    "        #First Layer\n",
    "        conv1 = conv2d(inputs, D_weights['c1'], D_biases['c1']) # \n",
    "#         pool1 = tf.nn.max_pool(conv1, ksize=[1,2,2,1], strides=[1,2,2,1], padding='SAME') # \n",
    "#         conv1 = tf.nn.lrn(conv1, 4, bias=1.0, alpha=0.001/9.0, beta=0.75)\n",
    "        #Second Layer\n",
    "        conv2 = conv2d(conv1, D_weights['c2'], D_biases['c2']) # \n",
    "#         conv2 = tf.nn.lrn(conv2, 4, bias=1.0, alpha=0.001/9.0, beta=0.75)\n",
    "        # Flatten Layer\n",
    "        flat = tf.reshape(conv2, [-1, D_weights['d1'].get_shape().as_list()[0]])\n",
    "        # Fully connected layer\n",
    "        fc1 = tf.nn.relu(tf.add(tf.matmul(flat, D_weights['d1']), D_biases['d1']))\n",
    "        # MinMax normalized output\n",
    "        D_logit = tf.add(tf.matmul(fc1, D_weights['out']) ,D_biases['out']) # [728]\n",
    "        D_prob = tf.nn.sigmoid(D_logit)\n",
    "        D_prob = tf.reshape(D_prob, [-1, rows, cols, 1])\n",
    "        return D_prob\n",
    "\n",
    "    ## GAIN structure\n",
    "    # Generator\n",
    "    G_sample = generator(X, M, Z)\n",
    "\n",
    "    # Combine with observed data(real obs + missed after generation)\n",
    "    Hat_X = X * M + G_sample * (1-M)\n",
    "\n",
    "    # Discriminator\n",
    "    D_prob = discriminator(Hat_X, H)\n",
    "\n",
    "    ## GAIN loss\n",
    "    D_loss_temp = -tf.reduce_mean(M * tf.log(D_prob + 1e-8) + (1-M) * tf.log(1. - D_prob + 1e-8)) \n",
    "    \n",
    "    G_loss_temp = -tf.reduce_mean((1-M) * tf.log(D_prob + 1e-8))\n",
    "\n",
    "    MSE_loss = tf.reduce_mean((M * X - M * G_sample)**2) / tf.reduce_mean(M)\n",
    "\n",
    "    D_loss = D_loss_temp\n",
    "    G_loss = G_loss_temp + alpha * MSE_loss \n",
    "\n",
    "    ## GAIN solver\n",
    "    D_solver = tf.train.AdamOptimizer(learning_rate=learning_rate).minimize(D_loss, var_list=theta_D.tolist())\n",
    "    G_solver = tf.train.AdamOptimizer(learning_rate=learning_rate).minimize(G_loss, var_list=theta_G.tolist())\n",
    "\n",
    "    # Start the session\n",
    "    sess = tf.Session()\n",
    "    # Initialize the global parameters \n",
    "    sess.run(tf.global_variables_initializer())\n",
    "\n",
    "    # Start Iterations\n",
    "    for epoch in range(iterations):\n",
    "        prog_bar = tqdm(range(int(len(miss_data_x)/batch_size)))\n",
    "        for step in prog_bar:  \n",
    "            # Sample batch\n",
    "            batch_idx = sample_batch_index(no, batch_size)\n",
    "            X_mb = norm_data_x[batch_idx, :] \n",
    "            X_mb = np.reshape(X_mb, (batch_size, rows, cols, 1))\n",
    "            M_mb = data_m[batch_idx, :]  \n",
    "            M_mb = np.reshape(M_mb, (batch_size, rows, cols, 1))\n",
    "            # Sample random vectors  \n",
    "            Z_mb = uniform_sampler(0, 0.01, (batch_size, rows, cols, 1)) \n",
    "            Z_mb = np.reshape(Z_mb, (batch_size, rows, cols, 1))\n",
    "            # Sample hint vectors\n",
    "            H_mb_temp = binary_sampler(hint_rate, (1, rows, cols, 1))\n",
    "            H_mb = M_mb * H_mb_temp\n",
    "            # Combine random vectors with observed vectors\n",
    "            X_mb = M_mb * X_mb + (1-M_mb) * Z_mb \n",
    "            Z_mb = np.reshape(Z_mb, X_mb.shape)\n",
    "            \n",
    "            _, D_loss_curr = sess.run([D_solver, D_loss_temp], \n",
    "                                      feed_dict = {M: M_mb, X: X_mb, H: H_mb, Z: Z_mb})\n",
    "\n",
    "            _, G_loss_curr, MSE_loss_curr = sess.run([G_solver, G_loss_temp, MSE_loss],\n",
    "                                                     feed_dict = {X: X_mb, M: M_mb, H: H_mb, Z: Z_mb})\n",
    "\n",
    "            prog_bar.set_description(\"Epoch({}): D_loss, G_loss ===> {:.3f}, {:.3f}\".format(epoch+1, D_loss_curr, G_loss_curr))\n",
    "\n",
    "    # Return imputed data\n",
    "    # Z vector\n",
    "    Z_mb = uniform_sampler(0, 0.01, (no, rows, cols, 1)) \n",
    "    Z_mb = np.reshape(Z_mb, (no, rows, cols, 1))\n",
    "    # M vector\n",
    "    M_mb = data_m\n",
    "    M_mb = np.reshape(M_mb, (-1, rows, cols, 1))\n",
    "    # X vector\n",
    "    X_mb = norm_data_x     \n",
    "    X_mb = np.reshape(X_mb, (-1, rows, cols, 1))\n",
    "    X_mb = M_mb * X_mb + (1-M_mb) * Z_mb\n",
    "\n",
    "    imputed_data = sess.run([G_sample], feed_dict = {X: X_mb[:1000], M: M_mb[:1000], Z:Z_mb[:1000]})[0]\n",
    "    imputed_data = data_m[:1000] * norm_data_x[:1000] + (1-data_m[:1000]) * imputed_data\n",
    "\n",
    "    # Renormalization\n",
    "    imputed_data = renormalization(imputed_data, norm_parameters)  \n",
    "    # Rounding\n",
    "    imputed_data = rounding(imputed_data, data_x)\n",
    "    \n",
    "#     # Save Model\n",
    "#     saver = tf.train.Saver() \n",
    "#     saver.save(sess, './model.ckpt')\n",
    "    \n",
    "    return imputed_data"
   ]
  },
  {
   "cell_type": "markdown",
   "id": "8c68b5e1",
   "metadata": {},
   "source": [
    "#### Loading the data"
   ]
  },
  {
   "cell_type": "code",
   "execution_count": 15,
   "id": "55cf49f8",
   "metadata": {},
   "outputs": [],
   "source": [
    "data_x, miss_data_x, data_m = data_loader(0.1)"
   ]
  },
  {
   "cell_type": "markdown",
   "id": "1e41bfb9",
   "metadata": {},
   "source": [
    "#### Training the model"
   ]
  },
  {
   "cell_type": "code",
   "execution_count": 22,
   "id": "cd2eb303",
   "metadata": {},
   "outputs": [
    {
     "name": "stderr",
     "output_type": "stream",
     "text": [
      "Epoch(1): D_loss, G_loss ===> 0.887, 0.017:   4%|█▋                                   | 21/468 [00:16<06:01,  1.24it/s]\n"
     ]
    },
    {
     "ename": "KeyboardInterrupt",
     "evalue": "",
     "output_type": "error",
     "traceback": [
      "\u001b[1;31m---------------------------------------------------------------------------\u001b[0m",
      "\u001b[1;31mKeyboardInterrupt\u001b[0m                         Traceback (most recent call last)",
      "\u001b[1;32m<ipython-input-22-342d759d40e5>\u001b[0m in \u001b[0;36m<module>\u001b[1;34m\u001b[0m\n\u001b[0;32m      5\u001b[0m                         'iterations':4}\n\u001b[0;32m      6\u001b[0m \u001b[1;33m\u001b[0m\u001b[0m\n\u001b[1;32m----> 7\u001b[1;33m \u001b[0mimputed_data\u001b[0m \u001b[1;33m=\u001b[0m \u001b[0mConv_GAIN\u001b[0m\u001b[1;33m(\u001b[0m\u001b[0mmiss_data_x\u001b[0m\u001b[1;33m,\u001b[0m \u001b[0mconv_gain_parameters\u001b[0m\u001b[1;33m)\u001b[0m\u001b[1;33m\u001b[0m\u001b[1;33m\u001b[0m\u001b[0m\n\u001b[0m",
      "\u001b[1;32m<ipython-input-20-48cd2b3513d3>\u001b[0m in \u001b[0;36mConv_GAIN\u001b[1;34m(miss_data_x, conv_gain_parameters)\u001b[0m\n\u001b[0;32m    199\u001b[0m                                       feed_dict = {M: M_mb, X: X_mb, H: H_mb, Z: Z_mb})\n\u001b[0;32m    200\u001b[0m \u001b[1;33m\u001b[0m\u001b[0m\n\u001b[1;32m--> 201\u001b[1;33m             _, G_loss_curr, MSE_loss_curr = sess.run([G_solver, G_loss_temp, MSE_loss],\n\u001b[0m\u001b[0;32m    202\u001b[0m                                                      feed_dict = {X: X_mb, M: M_mb, H: H_mb, Z: Z_mb})\n\u001b[0;32m    203\u001b[0m \u001b[1;33m\u001b[0m\u001b[0m\n",
      "\u001b[1;32m~\\anaconda3\\lib\\site-packages\\tensorflow\\python\\client\\session.py\u001b[0m in \u001b[0;36mrun\u001b[1;34m(self, fetches, feed_dict, options, run_metadata)\u001b[0m\n\u001b[0;32m    968\u001b[0m \u001b[1;33m\u001b[0m\u001b[0m\n\u001b[0;32m    969\u001b[0m     \u001b[1;32mtry\u001b[0m\u001b[1;33m:\u001b[0m\u001b[1;33m\u001b[0m\u001b[1;33m\u001b[0m\u001b[0m\n\u001b[1;32m--> 970\u001b[1;33m       result = self._run(None, fetches, feed_dict, options_ptr,\n\u001b[0m\u001b[0;32m    971\u001b[0m                          run_metadata_ptr)\n\u001b[0;32m    972\u001b[0m       \u001b[1;32mif\u001b[0m \u001b[0mrun_metadata\u001b[0m\u001b[1;33m:\u001b[0m\u001b[1;33m\u001b[0m\u001b[1;33m\u001b[0m\u001b[0m\n",
      "\u001b[1;32m~\\anaconda3\\lib\\site-packages\\tensorflow\\python\\client\\session.py\u001b[0m in \u001b[0;36m_run\u001b[1;34m(self, handle, fetches, feed_dict, options, run_metadata)\u001b[0m\n\u001b[0;32m   1191\u001b[0m     \u001b[1;31m# or if the call is a partial run that specifies feeds.\u001b[0m\u001b[1;33m\u001b[0m\u001b[1;33m\u001b[0m\u001b[1;33m\u001b[0m\u001b[0m\n\u001b[0;32m   1192\u001b[0m     \u001b[1;32mif\u001b[0m \u001b[0mfinal_fetches\u001b[0m \u001b[1;32mor\u001b[0m \u001b[0mfinal_targets\u001b[0m \u001b[1;32mor\u001b[0m \u001b[1;33m(\u001b[0m\u001b[0mhandle\u001b[0m \u001b[1;32mand\u001b[0m \u001b[0mfeed_dict_tensor\u001b[0m\u001b[1;33m)\u001b[0m\u001b[1;33m:\u001b[0m\u001b[1;33m\u001b[0m\u001b[1;33m\u001b[0m\u001b[0m\n\u001b[1;32m-> 1193\u001b[1;33m       results = self._do_run(handle, final_targets, final_fetches,\n\u001b[0m\u001b[0;32m   1194\u001b[0m                              feed_dict_tensor, options, run_metadata)\n\u001b[0;32m   1195\u001b[0m     \u001b[1;32melse\u001b[0m\u001b[1;33m:\u001b[0m\u001b[1;33m\u001b[0m\u001b[1;33m\u001b[0m\u001b[0m\n",
      "\u001b[1;32m~\\anaconda3\\lib\\site-packages\\tensorflow\\python\\client\\session.py\u001b[0m in \u001b[0;36m_do_run\u001b[1;34m(self, handle, target_list, fetch_list, feed_dict, options, run_metadata)\u001b[0m\n\u001b[0;32m   1371\u001b[0m \u001b[1;33m\u001b[0m\u001b[0m\n\u001b[0;32m   1372\u001b[0m     \u001b[1;32mif\u001b[0m \u001b[0mhandle\u001b[0m \u001b[1;32mis\u001b[0m \u001b[1;32mNone\u001b[0m\u001b[1;33m:\u001b[0m\u001b[1;33m\u001b[0m\u001b[1;33m\u001b[0m\u001b[0m\n\u001b[1;32m-> 1373\u001b[1;33m       return self._do_call(_run_fn, feeds, fetches, targets, options,\n\u001b[0m\u001b[0;32m   1374\u001b[0m                            run_metadata)\n\u001b[0;32m   1375\u001b[0m     \u001b[1;32melse\u001b[0m\u001b[1;33m:\u001b[0m\u001b[1;33m\u001b[0m\u001b[1;33m\u001b[0m\u001b[0m\n",
      "\u001b[1;32m~\\anaconda3\\lib\\site-packages\\tensorflow\\python\\client\\session.py\u001b[0m in \u001b[0;36m_do_call\u001b[1;34m(self, fn, *args)\u001b[0m\n\u001b[0;32m   1378\u001b[0m   \u001b[1;32mdef\u001b[0m \u001b[0m_do_call\u001b[0m\u001b[1;33m(\u001b[0m\u001b[0mself\u001b[0m\u001b[1;33m,\u001b[0m \u001b[0mfn\u001b[0m\u001b[1;33m,\u001b[0m \u001b[1;33m*\u001b[0m\u001b[0margs\u001b[0m\u001b[1;33m)\u001b[0m\u001b[1;33m:\u001b[0m\u001b[1;33m\u001b[0m\u001b[1;33m\u001b[0m\u001b[0m\n\u001b[0;32m   1379\u001b[0m     \u001b[1;32mtry\u001b[0m\u001b[1;33m:\u001b[0m\u001b[1;33m\u001b[0m\u001b[1;33m\u001b[0m\u001b[0m\n\u001b[1;32m-> 1380\u001b[1;33m       \u001b[1;32mreturn\u001b[0m \u001b[0mfn\u001b[0m\u001b[1;33m(\u001b[0m\u001b[1;33m*\u001b[0m\u001b[0margs\u001b[0m\u001b[1;33m)\u001b[0m\u001b[1;33m\u001b[0m\u001b[1;33m\u001b[0m\u001b[0m\n\u001b[0m\u001b[0;32m   1381\u001b[0m     \u001b[1;32mexcept\u001b[0m \u001b[0merrors\u001b[0m\u001b[1;33m.\u001b[0m\u001b[0mOpError\u001b[0m \u001b[1;32mas\u001b[0m \u001b[0me\u001b[0m\u001b[1;33m:\u001b[0m\u001b[1;33m\u001b[0m\u001b[1;33m\u001b[0m\u001b[0m\n\u001b[0;32m   1382\u001b[0m       \u001b[0mmessage\u001b[0m \u001b[1;33m=\u001b[0m \u001b[0mcompat\u001b[0m\u001b[1;33m.\u001b[0m\u001b[0mas_text\u001b[0m\u001b[1;33m(\u001b[0m\u001b[0me\u001b[0m\u001b[1;33m.\u001b[0m\u001b[0mmessage\u001b[0m\u001b[1;33m)\u001b[0m\u001b[1;33m\u001b[0m\u001b[1;33m\u001b[0m\u001b[0m\n",
      "\u001b[1;32m~\\anaconda3\\lib\\site-packages\\tensorflow\\python\\client\\session.py\u001b[0m in \u001b[0;36m_run_fn\u001b[1;34m(feed_dict, fetch_list, target_list, options, run_metadata)\u001b[0m\n\u001b[0;32m   1361\u001b[0m       \u001b[1;31m# Ensure any changes to the graph are reflected in the runtime.\u001b[0m\u001b[1;33m\u001b[0m\u001b[1;33m\u001b[0m\u001b[1;33m\u001b[0m\u001b[0m\n\u001b[0;32m   1362\u001b[0m       \u001b[0mself\u001b[0m\u001b[1;33m.\u001b[0m\u001b[0m_extend_graph\u001b[0m\u001b[1;33m(\u001b[0m\u001b[1;33m)\u001b[0m\u001b[1;33m\u001b[0m\u001b[1;33m\u001b[0m\u001b[0m\n\u001b[1;32m-> 1363\u001b[1;33m       return self._call_tf_sessionrun(options, feed_dict, fetch_list,\n\u001b[0m\u001b[0;32m   1364\u001b[0m                                       target_list, run_metadata)\n\u001b[0;32m   1365\u001b[0m \u001b[1;33m\u001b[0m\u001b[0m\n",
      "\u001b[1;32m~\\anaconda3\\lib\\site-packages\\tensorflow\\python\\client\\session.py\u001b[0m in \u001b[0;36m_call_tf_sessionrun\u001b[1;34m(self, options, feed_dict, fetch_list, target_list, run_metadata)\u001b[0m\n\u001b[0;32m   1454\u001b[0m   def _call_tf_sessionrun(self, options, feed_dict, fetch_list, target_list,\n\u001b[0;32m   1455\u001b[0m                           run_metadata):\n\u001b[1;32m-> 1456\u001b[1;33m     return tf_session.TF_SessionRun_wrapper(self._session, options, feed_dict,\n\u001b[0m\u001b[0;32m   1457\u001b[0m                                             \u001b[0mfetch_list\u001b[0m\u001b[1;33m,\u001b[0m \u001b[0mtarget_list\u001b[0m\u001b[1;33m,\u001b[0m\u001b[1;33m\u001b[0m\u001b[1;33m\u001b[0m\u001b[0m\n\u001b[0;32m   1458\u001b[0m                                             run_metadata)\n",
      "\u001b[1;31mKeyboardInterrupt\u001b[0m: "
     ]
    }
   ],
   "source": [
    "conv_gain_parameters = {'batch_size':128,\n",
    "                        'hint_rate':0.1,\n",
    "                        'learning_rate':0.0001,\n",
    "                        'alpha':0.05,\n",
    "                        'iterations':4}\n",
    "\n",
    "imputed_data = Conv_GAIN(miss_data_x, conv_gain_parameters)"
   ]
  },
  {
   "cell_type": "markdown",
   "id": "b6a41e3c",
   "metadata": {},
   "source": [
    "#### Show some random results"
   ]
  },
  {
   "cell_type": "code",
   "execution_count": 21,
   "id": "bea3710d",
   "metadata": {},
   "outputs": [
    {
     "name": "stdout",
     "output_type": "stream",
     "text": [
      "Image : 79\n"
     ]
    },
    {
     "data": {
      "image/png": "[encoded data removed]",
      "text/plain": [
       "<Figure size 1440x576 with 4 Axes>"
      ]
     },
     "metadata": {
      "needs_background": "light"
     },
     "output_type": "display_data"
    },
    {
     "name": "stdout",
     "output_type": "stream",
     "text": [
      "Image : 830\n"
     ]
    },
    {
     "data": {
      "image/png": "[encoded data removed]",
      "text/plain": [
       "<Figure size 1440x576 with 4 Axes>"
      ]
     },
     "metadata": {
      "needs_background": "light"
     },
     "output_type": "display_data"
    },
    {
     "name": "stdout",
     "output_type": "stream",
     "text": [
      "Image : 200\n"
     ]
    },
    {
     "data": {
      "image/png": "[encoded data removed]",
      "text/plain": [
       "<Figure size 1440x576 with 4 Axes>"
      ]
     },
     "metadata": {
      "needs_background": "light"
     },
     "output_type": "display_data"
    }
   ],
   "source": [
    "show_results(data_x, miss_data_x, data_m, imputed_data, num_examples=3)"
   ]
  }
 ],
 "metadata": {
  "kernelspec": {
   "display_name": "Python 3",
   "language": "python",
   "name": "python3"
  },
  "language_info": {
   "codemirror_mode": {
    "name": "ipython",
    "version": 3
   },
   "file_extension": ".py",
   "mimetype": "text/x-python",
   "name": "python",
   "nbconvert_exporter": "python",
   "pygments_lexer": "ipython3",
   "version": "3.8.8"
  }
 },
 "nbformat": 4,
 "nbformat_minor": 5
}
